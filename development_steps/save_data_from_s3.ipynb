{
 "cells": [
  {
   "cell_type": "code",
   "execution_count": 5,
   "metadata": {
    "collapsed": true
   },
   "outputs": [],
   "source": [
    "import pandas as pd\n",
    "import logging\n",
    "import boto3\n",
    "from datetime import datetime\n",
    "import io\n",
    "from botocore.config import Config\n",
    "\n",
    "today = datetime.now().strftime('%Y%m%d')\n",
    "current_ts = datetime.now().strftime('%Y%m%d%H%M%S')\n",
    "\n",
    "s3_client = boto3.client('s3', endpoint_url='http://localhost:9000')\n",
    "s3_res = boto3.resource('s3', endpoint_url='http://localhost:9000')"
   ]
  },
  {
   "cell_type": "code",
   "execution_count": 6,
   "outputs": [],
   "source": [
    "def save_df_to_s3(df, bucket, key, index=False):\n",
    "    ''' Store df as a buffer, then save buffer to s3'''\n",
    "    # s3_res = get_s3_resource()\n",
    "    try:\n",
    "        csv_buffer = io.StringIO()\n",
    "        df.to_csv(csv_buffer, index=index)\n",
    "        s3_res.Object(bucket, key).put(Body=csv_buffer.getvalue())\n",
    "        logging.info(f'{key} saved to s3 bucket {bucket}')\n",
    "    except Exception as e:\n",
    "        raise logging.exception(e)"
   ],
   "metadata": {
    "collapsed": false
   }
  },
  {
   "cell_type": "code",
   "execution_count": null,
   "outputs": [],
   "source": [
    "from airflow import DAG\n",
    "#from pandas_object_storage.read_write_object_str import load_files_to_object, transform_save_object_silver\n",
    "from datetime import datetime, timedelta\n",
    "\n",
    "from airflow.operators.python import PythonOperator\n",
    "\n",
    "start_date = datetime(2022, 10, 11)\n",
    "current_ts = datetime.now().strftime('%Y%m%d_%H%M%S')\n",
    "default_args = {\n",
    "    'owner': 'train',\n",
    "    'start_date': start_date,\n",
    "    'retries': 1,\n",
    "    'retry_delay': timedelta(seconds=5)\n",
    "}\n",
    "\n",
    "with DAG('pull_data', default_args=default_args, schedule_interval='@hourly', catchup=False) as dag:\n",
    "    pull_data = PythonOperator(task_id='pull_data', python_callable=save_df_to_s3)"
   ],
   "metadata": {
    "collapsed": false
   }
  }
 ],
 "metadata": {
  "kernelspec": {
   "display_name": "Python 3",
   "language": "python",
   "name": "python3"
  },
  "language_info": {
   "codemirror_mode": {
    "name": "ipython",
    "version": 2
   },
   "file_extension": ".py",
   "mimetype": "text/x-python",
   "name": "python",
   "nbconvert_exporter": "python",
   "pygments_lexer": "ipython2",
   "version": "2.7.6"
  }
 },
 "nbformat": 4,
 "nbformat_minor": 0
}
